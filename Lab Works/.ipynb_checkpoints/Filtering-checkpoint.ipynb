{
 "cells": [
  {
   "cell_type": "code",
   "execution_count": 1,
   "id": "cdf304d0",
   "metadata": {},
   "outputs": [],
   "source": [
    "import numpy as np\n",
    "import cv2\n",
    "import matplotlib.pyplot as plt"
   ]
  },
  {
   "cell_type": "code",
   "execution_count": 2,
   "id": "a0fa2489",
   "metadata": {},
   "outputs": [],
   "source": [
    "img=cv2.imread('car.png')"
   ]
  },
  {
   "cell_type": "code",
   "execution_count": 3,
   "id": "7e168770",
   "metadata": {},
   "outputs": [],
   "source": [
    "filter=np.array([[1,1,1],[0,0,0],[-1,-1,-1]])"
   ]
  },
  {
   "cell_type": "code",
   "execution_count": 4,
   "id": "b4b1b065",
   "metadata": {},
   "outputs": [],
   "source": [
    "identity = cv2.filter2D(src=img, ddepth=-1, kernel=filter)"
   ]
  },
  {
   "cell_type": "code",
   "execution_count": 5,
   "id": "d67b5699",
   "metadata": {},
   "outputs": [],
   "source": [
    "cv2.waitKey()\n",
    "cv2.imwrite('identity.jpg', identity)\n",
    "cv2.destroyAllWindows()"
   ]
  },
  {
   "cell_type": "code",
   "execution_count": null,
   "id": "624e7389",
   "metadata": {},
   "outputs": [],
   "source": []
  }
 ],
 "metadata": {
  "kernelspec": {
   "display_name": "Python 3 (ipykernel)",
   "language": "python",
   "name": "python3"
  },
  "language_info": {
   "codemirror_mode": {
    "name": "ipython",
    "version": 3
   },
   "file_extension": ".py",
   "mimetype": "text/x-python",
   "name": "python",
   "nbconvert_exporter": "python",
   "pygments_lexer": "ipython3",
   "version": "3.11.6"
  }
 },
 "nbformat": 4,
 "nbformat_minor": 5
}
